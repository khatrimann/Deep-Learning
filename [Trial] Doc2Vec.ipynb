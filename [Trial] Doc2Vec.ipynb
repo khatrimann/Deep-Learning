{
 "cells": [
  {
   "cell_type": "code",
   "execution_count": 1,
   "metadata": {},
   "outputs": [
    {
     "name": "stderr",
     "output_type": "stream",
     "text": [
      "paramiko missing, opening SSH/SCP/SFTP paths will be disabled.  `pip install paramiko` to suppress\n"
     ]
    }
   ],
   "source": [
    "import gensim\n",
    "import os\n",
    "import collections\n",
    "import smart_open\n",
    "import random\n",
    "from nltk.corpus import stopwords\n",
    "from nltk.stem import SnowballStemmer\n",
    "import re"
   ]
  },
  {
   "cell_type": "code",
   "execution_count": 2,
   "metadata": {},
   "outputs": [],
   "source": [
    "perfect_answer =  \"Data science is a multi-disciplinary field that uses scientific methods, processes, algorithms and systems to extract knowledge and insights from data in various forms, both structured and unstructured, similar to data mining. Data science is a concept to unify statistics, data analysis, machine learning and their related methods in order to understand and analyze actual phenomena with data. It employs techniques and theories drawn from many fields within the context of mathematics, statistics, information science, and computer science.\"\n",
    "recorded_answer = \"Data science is the field of study that combines domain expertise, programming skills, and knowledge of math and statistics to extract meaningful insights from data. Data science practitioners apply machine learning algorithms to numbers, text, images, video, audio, and more to produce artificial intelligence (AI) systems that perform tasks which ordinarily require human intelligence. In turn, these systems generate insights that analysts and business users translate into tangible business value.\""
   ]
  },
  {
   "cell_type": "code",
   "execution_count": 3,
   "metadata": {},
   "outputs": [],
   "source": [
    "train_answer = gensim.models.doc2vec.TaggedDocument(gensim.utils.simple_preprocess(perfect_answer), [0])\n",
    "test_answer = gensim.utils.simple_preprocess(recorded_answer)"
   ]
  },
  {
   "cell_type": "code",
   "execution_count": 4,
   "metadata": {},
   "outputs": [],
   "source": [
    "model = gensim.models.doc2vec.Doc2Vec(vector_size=50, min_count=2, epochs=100)"
   ]
  },
  {
   "cell_type": "code",
   "execution_count": 5,
   "metadata": {},
   "outputs": [
    {
     "data": {
      "text/plain": [
       "TaggedDocument(words=['data', 'science', 'is', 'multi', 'disciplinary', 'field', 'that', 'uses', 'scientific', 'methods', 'processes', 'algorithms', 'and', 'systems', 'to', 'extract', 'knowledge', 'and', 'insights', 'from', 'data', 'in', 'various', 'forms', 'both', 'structured', 'and', 'unstructured', 'similar', 'to', 'data', 'mining', 'data', 'science', 'is', 'concept', 'to', 'unify', 'statistics', 'data', 'analysis', 'machine', 'learning', 'and', 'their', 'related', 'methods', 'in', 'order', 'to', 'understand', 'and', 'analyze', 'actual', 'phenomena', 'with', 'data', 'it', 'employs', 'techniques', 'and', 'theories', 'drawn', 'from', 'many', 'fields', 'within', 'the', 'context', 'of', 'mathematics', 'statistics', 'information', 'science', 'and', 'computer', 'science'], tags=[0])"
      ]
     },
     "execution_count": 5,
     "metadata": {},
     "output_type": "execute_result"
    }
   ],
   "source": [
    "train_answer"
   ]
  },
  {
   "cell_type": "code",
   "execution_count": 19,
   "metadata": {},
   "outputs": [
    {
     "data": {
      "text/plain": [
       "['data',\n",
       " 'science',\n",
       " 'is',\n",
       " 'the',\n",
       " 'field',\n",
       " 'of',\n",
       " 'study',\n",
       " 'that',\n",
       " 'combines',\n",
       " 'domain',\n",
       " 'expertise',\n",
       " 'programming',\n",
       " 'skills',\n",
       " 'and',\n",
       " 'knowledge',\n",
       " 'of',\n",
       " 'math',\n",
       " 'and',\n",
       " 'statistics',\n",
       " 'to',\n",
       " 'extract',\n",
       " 'meaningful',\n",
       " 'insights',\n",
       " 'from',\n",
       " 'data',\n",
       " 'data',\n",
       " 'science',\n",
       " 'practitioners',\n",
       " 'apply',\n",
       " 'machine',\n",
       " 'learning',\n",
       " 'algorithms',\n",
       " 'to',\n",
       " 'numbers',\n",
       " 'text',\n",
       " 'images',\n",
       " 'video',\n",
       " 'audio',\n",
       " 'and',\n",
       " 'more',\n",
       " 'to',\n",
       " 'produce',\n",
       " 'artificial',\n",
       " 'intelligence',\n",
       " 'ai',\n",
       " 'systems',\n",
       " 'that',\n",
       " 'perform',\n",
       " 'tasks',\n",
       " 'which',\n",
       " 'ordinarily',\n",
       " 'require',\n",
       " 'human',\n",
       " 'intelligence',\n",
       " 'in',\n",
       " 'turn',\n",
       " 'these',\n",
       " 'systems',\n",
       " 'generate',\n",
       " 'insights',\n",
       " 'that',\n",
       " 'analysts',\n",
       " 'and',\n",
       " 'business',\n",
       " 'users',\n",
       " 'translate',\n",
       " 'into',\n",
       " 'tangible',\n",
       " 'business',\n",
       " 'value']"
      ]
     },
     "execution_count": 19,
     "metadata": {},
     "output_type": "execute_result"
    }
   ],
   "source": [
    "test_answer"
   ]
  },
  {
   "cell_type": "code",
   "execution_count": 6,
   "metadata": {},
   "outputs": [],
   "source": [
    "model.build_vocab([train_answer])"
   ]
  },
  {
   "cell_type": "code",
   "execution_count": 7,
   "metadata": {},
   "outputs": [
    {
     "name": "stdout",
     "output_type": "stream",
     "text": [
      "CPU times: user 258 ms, sys: 47.2 ms, total: 305 ms\n",
      "Wall time: 268 ms\n"
     ]
    }
   ],
   "source": [
    "%time model.train([train_answer], total_examples=model.corpus_count, epochs=model.epochs)"
   ]
  },
  {
   "cell_type": "code",
   "execution_count": 8,
   "metadata": {},
   "outputs": [],
   "source": [
    "inferred_vector = model.infer_vector(train_answer.words)"
   ]
  },
  {
   "cell_type": "code",
   "execution_count": 9,
   "metadata": {},
   "outputs": [],
   "source": [
    "sims = model.docvecs.most_similar([inferred_vector], topn=len(model.docvecs))"
   ]
  },
  {
   "cell_type": "code",
   "execution_count": 10,
   "metadata": {},
   "outputs": [
    {
     "data": {
      "text/plain": [
       "[(0, 0.9573736786842346)]"
      ]
     },
     "execution_count": 10,
     "metadata": {},
     "output_type": "execute_result"
    }
   ],
   "source": [
    "sims"
   ]
  },
  {
   "cell_type": "code",
   "execution_count": 11,
   "metadata": {},
   "outputs": [],
   "source": [
    "inferred_vector1 = model.infer_vector(test_answer)"
   ]
  },
  {
   "cell_type": "code",
   "execution_count": 12,
   "metadata": {},
   "outputs": [],
   "source": [
    "sims1 = model.docvecs.most_similar([inferred_vector1], topn=len(model.docvecs))"
   ]
  },
  {
   "cell_type": "code",
   "execution_count": 13,
   "metadata": {},
   "outputs": [
    {
     "data": {
      "text/plain": [
       "[(0, 0.8895453214645386)]"
      ]
     },
     "execution_count": 13,
     "metadata": {},
     "output_type": "execute_result"
    }
   ],
   "source": [
    "sims1"
   ]
  },
  {
   "cell_type": "code",
   "execution_count": 14,
   "metadata": {},
   "outputs": [],
   "source": [
    "p_ans = perfect_answer.lower().split()\n",
    "r_ans = recorded_answer.lower().split()\n",
    "stops = set(stopwords.words(\"english\"))\n",
    "p_ans = [w for w in p_ans if not w in stops]\n",
    "r_ans = [w for w in r_ans if not w in stops]\n",
    "p_ans = ' '.join(p_ans)\n",
    "r_ans = ' '.join(r_ans)\n",
    "p_ans = re.sub(r'[^a-zA-Z]', \" \", p_ans)\n",
    "r_ans = re.sub(r'[^a-zA-Z]', \" \", r_ans)\n",
    "# Shorten words to their stems\n",
    "stemmer = SnowballStemmer('english')\n",
    "p_stemmed_words = [stemmer.stem(word) for word in p_ans]\n",
    "r_stemmed_words = [stemmer.stem(word) for word in r_ans]\n",
    "p_ans = \" \".join(p_stemmed_words)\n",
    "r_ans = \" \".join(r_stemmed_words)\n",
    "p_ans = re.compile(\"[ ]{2,}\").split(p_ans)\n",
    "r_ans = re.compile(\"[ ]{2,}\").split(r_ans)\n",
    "for i in range(len(p_ans)):\n",
    "    p_ans[i] = p_ans[i].replace(\" \", \"\")\n",
    "    \n",
    "for i in range(len(r_ans)):\n",
    "    r_ans[i] = r_ans[i].replace(\" \", \"\")\n",
    "p_ans = \" \".join(p_ans)\n",
    "r_ans = \" \".join(r_ans)"
   ]
  },
  {
   "cell_type": "code",
   "execution_count": 15,
   "metadata": {},
   "outputs": [
    {
     "data": {
      "text/plain": [
       "'data science multi disciplinary field uses scientific methods processes algorithms systems extract knowledge insights data various forms structured unstructured similar data mining data science concept unify statistics data analysis machine learning related methods order understand analyze actual phenomena data employs techniques theories drawn many fields within context mathematics statistics information science computer science '"
      ]
     },
     "execution_count": 15,
     "metadata": {},
     "output_type": "execute_result"
    }
   ],
   "source": [
    "p_ans"
   ]
  },
  {
   "cell_type": "code",
   "execution_count": 16,
   "metadata": {},
   "outputs": [
    {
     "name": "stdout",
     "output_type": "stream",
     "text": [
      "CPU times: user 78.7 ms, sys: 23 ms, total: 102 ms\n",
      "Wall time: 90 ms\n"
     ]
    }
   ],
   "source": [
    "train_answer = gensim.models.doc2vec.TaggedDocument(gensim.utils.simple_preprocess(p_ans), [0])\n",
    "model = gensim.models.doc2vec.Doc2Vec(vector_size=50, min_count=2, epochs=40)\n",
    "model.build_vocab([train_answer])\n",
    "%time model.train([train_answer], total_examples=model.corpus_count, epochs=model.epochs)\n",
    "inferred_vector = model.infer_vector(train_answer.words)\n",
    "sims = model.docvecs.most_similar([inferred_vector], topn=len(model.docvecs))\n",
    "inferred_vector1 = model.infer_vector(r_ans.split())\n",
    "sims1 = model.docvecs.most_similar([inferred_vector1], topn=len(model.docvecs))"
   ]
  },
  {
   "cell_type": "code",
   "execution_count": 17,
   "metadata": {},
   "outputs": [
    {
     "data": {
      "text/plain": [
       "[(0, 0.05153155326843262)]"
      ]
     },
     "execution_count": 17,
     "metadata": {},
     "output_type": "execute_result"
    }
   ],
   "source": [
    "sims"
   ]
  },
  {
   "cell_type": "code",
   "execution_count": 18,
   "metadata": {},
   "outputs": [
    {
     "data": {
      "text/plain": [
       "[(0, 0.003938394133001566)]"
      ]
     },
     "execution_count": 18,
     "metadata": {},
     "output_type": "execute_result"
    }
   ],
   "source": [
    "sims1"
   ]
  }
 ],
 "metadata": {
  "kernelspec": {
   "display_name": "Python 3",
   "language": "python",
   "name": "python3"
  },
  "language_info": {
   "codemirror_mode": {
    "name": "ipython",
    "version": 3
   },
   "file_extension": ".py",
   "mimetype": "text/x-python",
   "name": "python",
   "nbconvert_exporter": "python",
   "pygments_lexer": "ipython3",
   "version": "3.6.5"
  }
 },
 "nbformat": 4,
 "nbformat_minor": 2
}
